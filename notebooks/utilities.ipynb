{
 "cells": [
  {
   "cell_type": "markdown",
   "id": "2cc0823e",
   "metadata": {},
   "source": [
    "## Libraries"
   ]
  },
  {
   "cell_type": "code",
   "execution_count": 2,
   "id": "3880d33f",
   "metadata": {},
   "outputs": [],
   "source": [
    "import matplotlib.pyplot as plt\n",
    "import numpy as np\n",
    "from collections.abc import Iterable"
   ]
  },
  {
   "cell_type": "markdown",
   "id": "6facb5ba",
   "metadata": {},
   "source": [
    "## Custom Plots"
   ]
  },
  {
   "cell_type": "code",
   "execution_count": 3,
   "id": "347c1911",
   "metadata": {},
   "outputs": [],
   "source": [
    "def custom_subplots(*args, facecolor='#FFFFFFFF', size=None, **kwargs):\n",
    "    \"\"\"\n",
    "    Create a custom subplot with specified facecolor and size.\n",
    "\n",
    "    Parameters:\n",
    "    - *args: Positional arguments for plt.subplots.\n",
    "    - facecolor: Background color of the subplot.\n",
    "    - size: Tuple specifying the size of the figure (width, height).\n",
    "    - **kwargs: Additional keyword arguments for plt.subplots.\n",
    "\n",
    "    Returns:\n",
    "    - fig: The created figure.\n",
    "    - axes: The created axes.\n",
    "    \"\"\"\n",
    "\n",
    "    # Set full-width default if size is not given\n",
    "    if size is None:\n",
    "        size = (16, 4)\n",
    "\n",
    "    fig, axes = plt.subplots(*args, **kwargs)\n",
    "    fig.set_size_inches(size)\n",
    "\n",
    "    if not (isinstance(axes, Iterable) and not isinstance(axes, np.ndarray) or (isinstance(axes, np.ndarray) and axes.ndim > 0)):\n",
    "        axes = [axes]\n",
    "      \n",
    "    for ax in np.ravel(axes):\n",
    "        ax.set_xticks([])\n",
    "        ax.set_yticks([])\n",
    "\n",
    "        for spine in ax.spines.values():\n",
    "            spine.set_edgecolor('black')\n",
    "            spine.set_linewidth(1)\n",
    "\n",
    "    plt.subplots_adjust(wspace=0.05)\n",
    "    fig.patch.set_facecolor(facecolor)\n",
    "\n",
    "    if len(np.ravel(axes)) == 1:\n",
    "        axes = np.ravel(axes)[0]\n",
    "    else:\n",
    "        axes = np.ravel(axes)\n",
    "\n",
    "    return fig, axes"
   ]
  },
  {
   "cell_type": "markdown",
   "id": "536f328c",
   "metadata": {},
   "source": [
    "## Rendering hyperspectral images as RGB"
   ]
  },
  {
   "cell_type": "code",
   "execution_count": 4,
   "id": "6ad75435",
   "metadata": {},
   "outputs": [],
   "source": [
    "# Clip the top and bottom 2% of the data to not normalise to outliers.\n",
    "def clip_to_quantiles(arr: np.ndarray, q_min: float = 0.02, q_max: float = 0.98) -> np.ndarray:\n",
    "  \"\"\"\n",
    "  Clip the array to the specified quantiles.\n",
    "\n",
    "  Args:\n",
    "    arr (np.ndarray): The input array to clip.\n",
    "    q_min (float): The lower quantile to clip to.\n",
    "    q_max (float): The upper quantile to clip to.\n",
    "\n",
    "  Returns:\n",
    "    np.ndarray: The clipped array.\n",
    "  \"\"\"\n",
    "  return np.clip(\n",
    "    arr,\n",
    "    np.nanquantile(arr, q_min),\n",
    "    np.nanquantile(arr, q_max)\n",
    "  )\n",
    "\n",
    "def render_s2_as_rgb(arr: np.ndarray) -> np.ndarray:\n",
    "  \"\"\"\n",
    "  Render Sentinel-2 data as RGB by clipping and normalising the bands.\n",
    "\n",
    "  Args:\n",
    "    arr (np.ndarray): The input Sentinel-2 data array with shape (height, width, channels).\n",
    "  \n",
    "  Returns:\n",
    "    np.ndarray: The 8-bit RGB rendered array with shape (height, width, 3).\n",
    "  \"\"\"\n",
    "  # If there are no data values, cast them to zero\n",
    "  if np.ma.isMaskedArray(arr):\n",
    "    arr = np.ma.getdata(arr.filled(0))\n",
    "  \n",
    "  # Select only blue, green and red bands\n",
    "  rgb_slice = arr[:, :, 0:3]\n",
    "\n",
    "  # Clip the data to the quantiles, so the RGB render is not stretched to outliers, which produces dark images\n",
    "  for c in range(3):\n",
    "    rgb_slice[:, :, c] = clip_to_quantiles(rgb_slice[:, :, c])\n",
    "  \n",
    "  # The current slice is uint16, but we want an uint8 RGB render\n",
    "  # We normalise the layer by dividing with the maximum value in the image\n",
    "  # Then we multiply it by 255 (the max of uint8) to get the normal RGB range\n",
    "  for c in range(3):\n",
    "    rgb_slice[:, :, c] = (rgb_slice[:, :, c] / np.max(rgb_slice[:, :, c])) * 255.0\n",
    "  \n",
    "  # We then round to the nearest integer and cast it to uint8\n",
    "  rgb_slice = np.rint(rgb_slice).astype(np.uint8)\n",
    "\n",
    "  return rgb_slice"
   ]
  }
 ],
 "metadata": {
  "kernelspec": {
   "display_name": "flood-monitoring",
   "language": "python",
   "name": "python3"
  },
  "language_info": {
   "codemirror_mode": {
    "name": "ipython",
    "version": 3
   },
   "file_extension": ".py",
   "mimetype": "text/x-python",
   "name": "python",
   "nbconvert_exporter": "python",
   "pygments_lexer": "ipython3",
   "version": "3.13.2"
  }
 },
 "nbformat": 4,
 "nbformat_minor": 5
}
