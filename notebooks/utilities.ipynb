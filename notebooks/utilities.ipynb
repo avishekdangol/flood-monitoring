{
 "cells": [
  {
   "cell_type": "markdown",
   "id": "2cc0823e",
   "metadata": {},
   "source": [
    "## Libraries"
   ]
  },
  {
   "cell_type": "code",
   "execution_count": 1,
   "id": "3880d33f",
   "metadata": {},
   "outputs": [],
   "source": [
    "import matplotlib.pyplot as plt\n",
    "import numpy as np\n",
    "from collections.abc import Iterable"
   ]
  },
  {
   "cell_type": "markdown",
   "id": "6facb5ba",
   "metadata": {},
   "source": [
    "## Custom Plots"
   ]
  },
  {
   "cell_type": "code",
   "execution_count": 2,
   "id": "347c1911",
   "metadata": {},
   "outputs": [],
   "source": [
    "def custom_subplots(*args, facecolor='#FFFFFFFF', size=None, **kwargs):\n",
    "    \"\"\"\n",
    "    Create a custom subplot with specified facecolor and size.\n",
    "\n",
    "    Parameters:\n",
    "    - *args: Positional arguments for plt.subplots.\n",
    "    - facecolor: Background color of the subplot.\n",
    "    - size: Tuple specifying the size of the figure (width, height).\n",
    "    - **kwargs: Additional keyword arguments for plt.subplots.\n",
    "\n",
    "    Returns:\n",
    "    - fig: The created figure.\n",
    "    - axes: The created axes.\n",
    "    \"\"\"\n",
    "\n",
    "    # Set full-width default if size is not given\n",
    "    if size is None:\n",
    "        size = (16, 4)\n",
    "\n",
    "    fig, axes = plt.subplots(*args, **kwargs)\n",
    "    fig.set_size_inches(size)\n",
    "\n",
    "    if not (isinstance(axes, Iterable) and not isinstance(axes, np.ndarray) or (isinstance(axes, np.ndarray) and axes.ndim > 0)):\n",
    "        axes = [axes]\n",
    "      \n",
    "    for ax in np.ravel(axes):\n",
    "        ax.set_xticks([])\n",
    "        ax.set_yticks([])\n",
    "\n",
    "        for spine in ax.spines.values():\n",
    "            spine.set_edgecolor('black')\n",
    "            spine.set_linewidth(1)\n",
    "\n",
    "    plt.subplots_adjust(wspace=0.05)\n",
    "    fig.patch.set_facecolor(facecolor)\n",
    "\n",
    "    if len(np.ravel(axes)) == 1:\n",
    "        axes = np.ravel(axes)[0]\n",
    "    else:\n",
    "        axes = np.ravel(axes)\n",
    "\n",
    "    return fig, axes"
   ]
  }
 ],
 "metadata": {
  "kernelspec": {
   "display_name": "flood-monitoring",
   "language": "python",
   "name": "python3"
  },
  "language_info": {
   "codemirror_mode": {
    "name": "ipython",
    "version": 3
   },
   "file_extension": ".py",
   "mimetype": "text/x-python",
   "name": "python",
   "nbconvert_exporter": "python",
   "pygments_lexer": "ipython3",
   "version": "3.13.2"
  }
 },
 "nbformat": 4,
 "nbformat_minor": 5
}
