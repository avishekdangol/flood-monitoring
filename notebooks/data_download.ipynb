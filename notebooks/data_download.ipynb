{
 "cells": [
  {
   "cell_type": "markdown",
   "id": "a872091e",
   "metadata": {},
   "source": [
    "## Project data"
   ]
  },
  {
   "cell_type": "markdown",
   "id": "89b73890",
   "metadata": {},
   "source": [
    "The project data comprises 78 locations in Egypt and Isreal, each encompassing several square kilometers. Here we give a quick overview of the data but further down this cell there is more detailed information on each datasource.\n",
    "\n",
    "For each location there are:\n",
    "\n",
    "Sentinel-2: There are 9 available bands. These bands are: 2-Blue, 3-Green, 4-Red, 5-RedEdge1, 6-RedEdge2, 7-RedEdge3, 8-NIR, 11-SWIR1, 12-SWIR2. Notice that band 8A-RedEdge is not supplied. These images are not normalised yet, but we will see how to work and visualise them later on.\n",
    "\n",
    "Sentinel-1: There are 2 available bands which are the VV and VH bands. VV is the mode that transmits vertical waves and receives vertical waves to create the SAR image while VH is the mode that transmits vertical waves and receives horizontal waves. The data has already been despeckled and processed to contain values in  dB .\n",
    "\n",
    "CopDEM: The Copernicus DEM has 4 channels. The actual elevation in meters is stored in the 4th channel. The first 2 channels store the direction (aspect in sin/cos) the slope is facing while the 3rd channel has the actual slope. All the four channels are in the range [0-1] with channel 4 normalised to the height of Mt. Everest.\n",
    "\n",
    "Buildings labels: This is the ground truth used for the building density prediction task (building density serves as proxy for population density). The labels are expressed of number of squared meters of building on a given pixel. Values are between 0-100  m2  and for a resolution of 10 m  this reflect the percentage of coverage. This data is a combination of the Google Open Buildings dataset, OSM buildings and manual labeling."
   ]
  },
  {
   "cell_type": "markdown",
   "id": "04ee045b",
   "metadata": {},
   "source": [
    "## Sentinel-1: Synthetic Aperture Radar (SAR) data\n",
    "\n",
    "SENTINEL-1 is an imaging radar mission providing continuous all-weather, day-and-night imagery at C-band at a resolution of about 10m every 12 days. Sentinel-1 is a phase-preserving dual polarisation SAR system. It can transmit a signal in either horizontal (H) or vertical (V) polarisation, and then receive in both H and V polarisations.\n",
    "\n",
    "SAR sensors are able to detect flooding because flat surfaces reflect (acts as a specular reflector) the signal away from the sensor, decreasing the amount of returned radiation. This causes relatively dark pixels in radar data for water areas which contrast with non-water areas.\n",
    "\n",
    "Speckle is a general phenomenon in SAR imagery caused by the interaction of the out-of-phase waves reflected from a target resulting in a salt-and-pepper pattern. Presence of speckle in SAR images degrades the interpretability of the land features in the data. Speckle removal is necessary for quantitative, analysis and there are various filters but there exists a tradeoff between speckle removal and resolution. The images we use have already been despeckled and processed to dB values."
   ]
  },
  {
   "cell_type": "markdown",
   "id": "760ca778",
   "metadata": {},
   "source": [
    "## Sentinel-2: Multispectral data\n",
    "\n",
    "SENTINEL-2 is a wide-swath, high-resolution, multi-spectral imaging mission, supporting Copernicus Land Monitoring studies, including the monitoring of vegetation, soil and water cover, as well as observation of inland waterways and coastal areas. Most importantly for us is the MultiSpectral Instrument (MSI), which samples 13 spectral bands: four bands at 10 metres, six bands at 20 metres and three bands at 60 metres spatial resolution. These include the Blue, Green and Red bands which correspond to how humans see the world but also Near Infrared (NIR) and Short-wave Infrared (SWIR) which can be used to monitor vegetation, geological features and much more.\n",
    "\n",
    "Sentinel-2 images are very valuable for population density estimations and the mapping of vulnerable areas. The infrared bands are effective to differentiate between different types of land use while the Red band is used for mapping man-made structures. The high resolution RGB images can be used to detect schools, hospitals and other vulnerable areas."
   ]
  },
  {
   "cell_type": "markdown",
   "id": "aaa033c4",
   "metadata": {},
   "source": [
    "## Copernicus DEM: Digital Elevation Model data\n",
    "\n",
    "The Copernicus DEM is a Digital Surface Model (DSM) that represents the surface of the Earth including buildings, infrastructure and vegetation. The Copernicus DEM provides digital elevation maps for Egypt at a resolution of 30m. Data to create the DEM were acquired through the TanDEM-X mission.\n",
    "\n",
    "As one can image, DEM’s are often used for flood prediction. DEMs can be used to create flood inundation maps, which show how water will spread across the landscape during a flood event. By combining a DEM with hydrological modeling, it is possible to simulate flood events and create maps that show which areas will be affected by flooding and to what extent. DEMs can also be used to identify natural features that can affect flooding, such as ridges, valleys, and drainage basins.\n"
   ]
  },
  {
   "cell_type": "markdown",
   "id": "7102b5fe",
   "metadata": {},
   "source": [
    "## Libraries"
   ]
  },
  {
   "cell_type": "code",
   "execution_count": 8,
   "id": "d528082f",
   "metadata": {},
   "outputs": [],
   "source": [
    "# Standard library imports\n",
    "import os\n",
    "import zipfile\n",
    "from pathlib import Path\n",
    "\n",
    "# Third-party imports\n",
    "import gdown"
   ]
  },
  {
   "cell_type": "markdown",
   "id": "1b08de67",
   "metadata": {},
   "source": [
    "## Constants"
   ]
  },
  {
   "cell_type": "code",
   "execution_count": 9,
   "id": "82c30a8c",
   "metadata": {},
   "outputs": [],
   "source": [
    "download_url = \"https://drive.google.com/uc?id=1N-vOm_rBPXM4CbXTdHhKfjYSeJd93sL0\"\n",
    "output_folder = os.path.abspath(os.path.join(os.getcwd(), '../data/CCAI_FLOODS_DATA'))\n",
    "\n",
    "# Sentinel-1 and Sentinel-2 data\n",
    "s1_data = 'https://drive.google.com/uc?id=1LrakuW_RVA8KVsls4NyesnG4pFmxu7eS'\n",
    "s2_data = 'https://drive.google.com/uc?id=1lrvPBJXHYmA6Xcd9bklNRHjcP9e_zQvQ'"
   ]
  },
  {
   "cell_type": "markdown",
   "id": "c57b09c6",
   "metadata": {},
   "source": [
    "## Download Data"
   ]
  },
  {
   "cell_type": "code",
   "execution_count": null,
   "id": "28f51df8",
   "metadata": {},
   "outputs": [],
   "source": [
    "def download_from_google_drive(url: str, filename: str, output_path: Path = None, extract: bool = False):\n",
    "    \"\"\"\n",
    "    Downloads a file from Google Drive and unzips it to the specified output path.\n",
    "\n",
    "    Args:\n",
    "        url (str): The Google Drive URL to download the file from.\n",
    "        filename (str): The name of the file to save.\n",
    "        output_path (Path, optional): The directory where the file will be saved. Defaults to None.\n",
    "        extract (bool, optional): Whether to extract the file if it is a zip file. Defaults to False.\n",
    "    \"\"\"\n",
    "    # If output_path is provided, ensure it exists\n",
    "    if output_path:\n",
    "        output_path.mkdir(parents=True, exist_ok=True)\n",
    "\n",
    "    # Download the file\n",
    "    print(f\"Initiating download from Google Drive...\")\n",
    "    gdown.download(url, filename, quiet=False)\n",
    "    print(f\"Download completed\")\n",
    "\n",
    "    # If extract is True and output_path is provided, extract the file to that path\n",
    "    if extract and output_path:\n",
    "        print(f\"Unzipping {filename}...\")\n",
    "        # Unzip the file\n",
    "        with zipfile.ZipFile(filename, 'r') as zip_ref:\n",
    "            zip_ref.extractall(output_path)\n",
    "        print(f\"Unzipping completed\")\n",
    "\n",
    "        # Remove the zip file after extraction\n",
    "        os.remove(filename)"
   ]
  },
  {
   "cell_type": "code",
   "execution_count": 11,
   "id": "d501cdf8",
   "metadata": {},
   "outputs": [
    {
     "name": "stdout",
     "output_type": "stream",
     "text": [
      "Downloading CCAI_FLOODS_DATA.zip from Google Drive...\n"
     ]
    },
    {
     "name": "stderr",
     "output_type": "stream",
     "text": [
      "Downloading...\n",
      "From (original): https://drive.google.com/uc?id=1N-vOm_rBPXM4CbXTdHhKfjYSeJd93sL0\n",
      "From (redirected): https://drive.google.com/uc?id=1N-vOm_rBPXM4CbXTdHhKfjYSeJd93sL0&confirm=t&uuid=91369760-07ec-4a73-98e9-1cf8d79437d7\n",
      "To: c:\\Users\\dango\\OneDrive - UWE Bristol\\projects\\flood-monitoring\\notebooks\\CCAI_FLOODS_DATA.zip\n",
      "100%|██████████| 395M/395M [00:14<00:00, 28.1MB/s] \n"
     ]
    },
    {
     "name": "stdout",
     "output_type": "stream",
     "text": [
      "Download completed\n",
      "Unzipping CCAI_FLOODS_DATA.zip...\n",
      "Unzipping completed\n"
     ]
    }
   ],
   "source": [
    "# Download dataset and extract it\n",
    "download_from_google_drive(download_url, 'CCAI_FLOODS_DATA.zip', Path(output_folder), extract=True)"
   ]
  },
  {
   "cell_type": "markdown",
   "id": "2e1536de",
   "metadata": {},
   "source": [
    "## Download Sentinel-1 and Sentinel-2 Data"
   ]
  },
  {
   "cell_type": "code",
   "execution_count": 12,
   "id": "3f237270",
   "metadata": {},
   "outputs": [],
   "source": [
    "# Constants for Sentinel-1 and Sentinel-2 data\n",
    "output_folder = os.path.abspath(os.path.join(os.getcwd(), '../data'))\n",
    "s1_folder = os.path.join(output_folder, 'S1.tif')\n",
    "s2_folder = os.path.join(output_folder, 'S2.tif')"
   ]
  },
  {
   "cell_type": "markdown",
   "id": "01bea885",
   "metadata": {},
   "source": [
    "### Sentinel-1"
   ]
  },
  {
   "cell_type": "code",
   "execution_count": 13,
   "id": "7f9e2248",
   "metadata": {},
   "outputs": [
    {
     "name": "stdout",
     "output_type": "stream",
     "text": [
      "Downloading c:\\Users\\dango\\OneDrive - UWE Bristol\\projects\\flood-monitoring\\data\\S1.tif from Google Drive...\n"
     ]
    },
    {
     "name": "stderr",
     "output_type": "stream",
     "text": [
      "Downloading...\n",
      "From (original): https://drive.google.com/uc?id=1LrakuW_RVA8KVsls4NyesnG4pFmxu7eS\n",
      "From (redirected): https://drive.google.com/uc?id=1LrakuW_RVA8KVsls4NyesnG4pFmxu7eS&confirm=t&uuid=3ff992e7-2825-400a-855c-6731540fa665\n",
      "To: c:\\Users\\dango\\OneDrive - UWE Bristol\\projects\\flood-monitoring\\data\\S1.tif\n",
      "100%|██████████| 819M/819M [00:29<00:00, 27.4MB/s] "
     ]
    },
    {
     "name": "stdout",
     "output_type": "stream",
     "text": [
      "Download completed\n"
     ]
    },
    {
     "name": "stderr",
     "output_type": "stream",
     "text": [
      "\n"
     ]
    }
   ],
   "source": [
    "# Download Sentinel-1 data\n",
    "download_from_google_drive(\n",
    "  s1_data,\n",
    "  filename=s1_folder,\n",
    ")"
   ]
  },
  {
   "cell_type": "markdown",
   "id": "3de24662",
   "metadata": {},
   "source": [
    "### Sentinel-2"
   ]
  },
  {
   "cell_type": "code",
   "execution_count": 14,
   "id": "f35c1039",
   "metadata": {},
   "outputs": [
    {
     "name": "stdout",
     "output_type": "stream",
     "text": [
      "Downloading c:\\Users\\dango\\OneDrive - UWE Bristol\\projects\\flood-monitoring\\data\\S2.tif from Google Drive...\n"
     ]
    },
    {
     "name": "stderr",
     "output_type": "stream",
     "text": [
      "Downloading...\n",
      "From (original): https://drive.google.com/uc?id=1lrvPBJXHYmA6Xcd9bklNRHjcP9e_zQvQ\n",
      "From (redirected): https://drive.google.com/uc?id=1lrvPBJXHYmA6Xcd9bklNRHjcP9e_zQvQ&confirm=t&uuid=4b462c5e-c2dc-4493-99b1-db3224c528ad\n",
      "To: c:\\Users\\dango\\OneDrive - UWE Bristol\\projects\\flood-monitoring\\data\\S2.tif\n",
      "100%|██████████| 1.53G/1.53G [00:55<00:00, 27.4MB/s]"
     ]
    },
    {
     "name": "stdout",
     "output_type": "stream",
     "text": [
      "Download completed\n"
     ]
    },
    {
     "name": "stderr",
     "output_type": "stream",
     "text": [
      "\n"
     ]
    }
   ],
   "source": [
    "# Download Sentinel-2 data\n",
    "download_from_google_drive(\n",
    "  s2_data,\n",
    "  filename=s2_folder\n",
    ")"
   ]
  }
 ],
 "metadata": {
  "kernelspec": {
   "display_name": "flood-monitoring",
   "language": "python",
   "name": "python3"
  },
  "language_info": {
   "codemirror_mode": {
    "name": "ipython",
    "version": 3
   },
   "file_extension": ".py",
   "mimetype": "text/x-python",
   "name": "python",
   "nbconvert_exporter": "python",
   "pygments_lexer": "ipython3",
   "version": "3.13.2"
  }
 },
 "nbformat": 4,
 "nbformat_minor": 5
}
